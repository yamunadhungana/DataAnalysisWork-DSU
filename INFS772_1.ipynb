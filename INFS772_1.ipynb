{
 "cells": [
  {
   "cell_type": "markdown",
   "metadata": {},
   "source": [
    "# Assignment - 1\n",
    "Submitted By: Yamuna Dhungana"
   ]
  },
  {
   "cell_type": "code",
   "execution_count": 1,
   "metadata": {},
   "outputs": [],
   "source": [
    "import math\n",
    "import operator\n",
    "from collections import Counter, defaultdict"
   ]
  },
  {
   "cell_type": "markdown",
   "metadata": {},
   "source": [
    "# Exercise 1 and Exercise 2\n",
    "#### Exercise 1: define print_attribute_names_and_values()\n",
    "#### Exercise 2: define load_instances()"
   ]
  },
  {
   "cell_type": "code",
   "execution_count": 2,
   "metadata": {},
   "outputs": [],
   "source": [
    "def load_instances(filename):\n",
    "    '''Returns a list of instances stored in a file.\n",
    "    filename is expected to have a series of comma-separated attribute values per line, e.g.,\n",
    "        p,k,f,n,f,n,f,c,n,w,e,?,k,y,w,n,p,w,o,e,w,v,d\n",
    "    '''\n",
    "    instances = []\n",
    "    with open(data_filename,'r') as f:\n",
    "        for line in f:  # 'line' will be bound to the next line in f in each for loop iteration\n",
    "            instances.append(line.strip().split(','))\n",
    "             # The strip() method returns a copy of the string\n",
    "            # with both leading and trailing characters removed\n",
    "            # based on the string argument passed.\n",
    "    return instances\n",
    "\n",
    "def load_attributes_name(filename, separator=':'):\n",
    "    '''Returns a list of attribute names in a file.\n",
    "    filename is expected to be a file with attribute names. one attribute per line.\n",
    "    filename might also have a list of possible attribute values, in which case it is assumed\n",
    "    that the attribute name is separated from the possible values by separator.'''\n",
    "    with open(filename,'r') as f:\n",
    "        attribute_names = [line.strip().split(separator)[0] for line in f]\n",
    "    return attribute_names\n",
    "\n",
    "def attribute_value(instance, attribute, attribute_names):\n",
    "    '''Returns the value of attribute in instance, \n",
    "        based on its position in attribute_names'''\n",
    "    if attribute not in attribute_names:\n",
    "        return None\n",
    "    else:\n",
    "        i = attribute_names.index(attribute)\n",
    "        return instance[i]  # using the parameter name here\n",
    "\n",
    "def print_attribute_names_and_values(single_instance_list,attribute_names):\n",
    "    '''Prints the attribute names and values for an instance'''\n",
    "    print('Values for the', len(attribute_names), 'attributes:', end='\\n\\n')  # adds a blank line\n",
    "    for i in range(len(attribute_names)):\n",
    "        print(attribute_names[i], '=',\n",
    "          attribute_value(single_instance_list, attribute_names[i], attribute_names))\n",
    "    return\n",
    "                                        \n",
    "                                    "
   ]
  },
  {
   "cell_type": "code",
   "execution_count": 3,
   "metadata": {},
   "outputs": [],
   "source": [
    "data_filename = 'agaricus-lepiota.data'\n",
    "instances=load_instances(data_filename)\n",
    "\n",
    "attribute_filename ='agaricus-lepiota.attributes'\n",
    "attribute_names = load_attributes_name(attribute_filename, separator=':')"
   ]
  },
  {
   "cell_type": "code",
   "execution_count": 4,
   "metadata": {},
   "outputs": [
    {
     "name": "stdout",
     "output_type": "stream",
     "text": [
      "Values for the 23 attributes:\n",
      "\n",
      "class = p\n",
      "cap-shape = x\n",
      "cap-surface = s\n",
      "cap-color = n\n",
      "bruises? = t\n",
      "odor = p\n",
      "gill-attachment = f\n",
      "gill-spacing = c\n",
      "gill-size = n\n",
      "gill-color = k\n",
      "stalk-shape = e\n",
      "stalk-root = e\n",
      "stalk-surface-above-ring = s\n",
      "stalk-surface-below-ring = s\n",
      "stalk-color-above-ring = w\n",
      "stalk-color-below-ring = w\n",
      "veil-type = p\n",
      "veil-color = w\n",
      "ring-number = o\n",
      "ring-type = p\n",
      "spore-print-color = k\n",
      "population = s\n",
      "habitat = u\n"
     ]
    }
   ],
   "source": [
    "print_attribute_names_and_values(instances[0],attribute_names)"
   ]
  },
  {
   "cell_type": "code",
   "execution_count": 5,
   "metadata": {},
   "outputs": [
    {
     "name": "stdout",
     "output_type": "stream",
     "text": [
      "Read 8124 instances from agaricus-lepiota.data\n",
      "First instances: ['p', 'x', 's', 'n', 't', 'p', 'f', 'c', 'n', 'k', 'e', 'e', 's', 's', 'w', 'w', 'p', 'w', 'o', 'p', 'k', 's', 'u']\n"
     ]
    }
   ],
   "source": [
    "print('Read',len(instances),'instances from',data_filename)\n",
    "print('First instances:', instances[0])"
   ]
  },
  {
   "cell_type": "markdown",
   "metadata": {},
   "source": [
    "### Exercise 3\n",
    "#### Define load_attribute_values() and load_attribute_names_and_values()"
   ]
  },
  {
   "cell_type": "code",
   "execution_count": 6,
   "metadata": {},
   "outputs": [],
   "source": [
    "def load_attribute_values(attribute_filename):\n",
    "    '''Returns a list of attribute values in filename.\n",
    "    \n",
    "    The attribute values are represented as dictionaries, \n",
    "    wherein the keys are abbreviations and the values are descriptions.\n",
    "    \n",
    "    filename is expected to have one attribute name and set of values per line, \n",
    "    with the following format:\n",
    "        name: value_description=value_abbreviation[,value_description=value_abbreviation]*\n",
    "    for example\n",
    "        cap-shape: bell=b, conical=c, convex=x, flat=f, knobbed=k, sunken=s\n",
    "    The attribute value description dictionary created from this line would be the following:\n",
    "        {'c': 'conical', 'b': 'bell', 'f': 'flat', 'k': 'knobbed', 's': 'sunken', 'x': 'convex'}'''\n",
    "    attribute_values = []\n",
    "    with open(attribute_filename) as f:\n",
    "        for line in f:\n",
    "            attribute_name_and_value_string_list = line.strip().split(':')\n",
    "            attribute_name = attribute_name_and_value_string_list[0]\n",
    "            if len(attribute_name_and_value_string_list) < 2:\n",
    "                attribute_values.append({}) # no values for this attribute\n",
    "            else:\n",
    "                value_abbreviation_description_dict = {}\n",
    "                description_and_abbreviation_string_list = attribute_name_and_value_string_list[1].strip().split(',')\n",
    "                for description_and_abbreviation_string in description_and_abbreviation_string_list:\n",
    "                    description_and_abbreviation = description_and_abbreviation_string.strip().split('=')\n",
    "                    description = description_and_abbreviation[0]\n",
    "                    if len(description_and_abbreviation) < 2: # assumption: no more than 1 value is missing an abbreviation\n",
    "                        value_abbreviation_description_dict[None] = description\n",
    "                    else:\n",
    "                        abbreviation = description_and_abbreviation[1]\n",
    "                        value_abbreviation_description_dict[abbreviation] = description\n",
    "                attribute_values.append(value_abbreviation_description_dict)\n",
    "    return attribute_values"
   ]
  },
  {
   "cell_type": "code",
   "execution_count": 7,
   "metadata": {},
   "outputs": [],
   "source": [
    "def load_attribute_names_and_values(filename):\n",
    "    '''Returns a list of attribute names and values in filename.\n",
    "    \n",
    "    This list contains dictionaries wherein the keys are names \n",
    "    and the values are value description dictionaries.\n",
    "    \n",
    "    Each value description sub-dictionary will use the attribute value abbreviations as its keys \n",
    "    and the attribute descriptions as the values.\n",
    "    \n",
    "    filename is expected to have one attribute name and set of values per line, with the following format:\n",
    "        name: value_description=value_abbreviation[,value_description=value_abbreviation]*\n",
    "    for example\n",
    "        cap-shape: bell=b, conical=c, convex=x, flat=f, knobbed=k, sunken=s\n",
    "    The attribute name and values dictionary created from this line would be the following:\n",
    "        {'name': 'cap-shape', 'values': {'c': 'conical', 'b': 'bell', 'f': 'flat', 'k': 'knobbed', 's': 'sunken', 'x': 'convex'}}'''\n",
    "    attribute_names_and_values = [] # this will be a list of dicts\n",
    "    with open(filename) as f:\n",
    "        for line in f:\n",
    "            attribute_name_and_value_dict = {}\n",
    "            attribute_name_and_value_string_list = line.strip().split(':')\n",
    "            attribute_name = attribute_name_and_value_string_list[0]\n",
    "            attribute_name_and_value_dict['name'] = attribute_name\n",
    "            if len(attribute_name_and_value_string_list) < 2:\n",
    "                attribute_name_and_value_dict['values'] = None # no values for this attribute\n",
    "            else:\n",
    "                value_abbreviation_description_dict = {}\n",
    "                description_and_abbreviation_string_list = attribute_name_and_value_string_list[1].strip().split(',')\n",
    "                for description_and_abbreviation_string in description_and_abbreviation_string_list:\n",
    "                    description_and_abbreviation = description_and_abbreviation_string.strip().split('=')\n",
    "                    description = description_and_abbreviation[0]\n",
    "                    if len(description_and_abbreviation) < 2: # assumption: no more than 1 value is missing an abbreviation\n",
    "                        value_abbreviation_description_dict[None] = description\n",
    "                    else:\n",
    "                        abbreviation = description_and_abbreviation[1]\n",
    "                        value_abbreviation_description_dict[abbreviation] = description\n",
    "                attribute_name_and_value_dict['values'] = value_abbreviation_description_dict\n",
    "            attribute_names_and_values.append(attribute_name_and_value_dict)\n",
    "    return attribute_names_and_values\n",
    "    "
   ]
  },
  {
   "cell_type": "code",
   "execution_count": 8,
   "metadata": {},
   "outputs": [
    {
     "data": {
      "text/plain": [
       "[{'e': 'edible', 'p': 'poisonous'},\n",
       " {'b': 'bell',\n",
       "  'c': 'conical',\n",
       "  'x': 'convex',\n",
       "  'f': 'flat',\n",
       "  'k': 'knobbed',\n",
       "  's': 'sunken'},\n",
       " {'f': 'fibrous', 'g': 'grooves', 'y': 'scaly', 's': 'smooth'},\n",
       " {'n': 'brown',\n",
       "  'b': 'buff',\n",
       "  'c': 'cinnamon',\n",
       "  'g': 'gray',\n",
       "  'r': 'green',\n",
       "  'p': 'pink',\n",
       "  'u': 'purple',\n",
       "  'e': 'red',\n",
       "  'w': 'white',\n",
       "  'y': 'yellow'},\n",
       " {'t': 'bruises', 'f': 'no'},\n",
       " {'a': 'almond',\n",
       "  'l': 'anise',\n",
       "  'c': 'creosote',\n",
       "  'y': 'fishy',\n",
       "  'f': 'foul',\n",
       "  'm': 'musty',\n",
       "  'n': 'none',\n",
       "  'p': 'pungent',\n",
       "  's': 'spicy'},\n",
       " {'a': 'attached', 'd': 'descending', 'f': 'free', 'n': 'notched'},\n",
       " {'c': 'close', 'w': 'crowded', 'd': 'distant'},\n",
       " {'b': 'broad', 'n': 'narrow'},\n",
       " {'k': 'black',\n",
       "  'n': 'brown',\n",
       "  'b': 'buff',\n",
       "  'h': 'chocolate',\n",
       "  'g': 'gray',\n",
       "  'r': 'green',\n",
       "  'o': 'orange',\n",
       "  'p': 'pink',\n",
       "  'u': 'purple',\n",
       "  'e': 'red',\n",
       "  'w': 'white',\n",
       "  'y': 'yellow'},\n",
       " {'e': 'enlarging', 't': 'tapering'},\n",
       " {'b': 'bulbous',\n",
       "  'c': 'club',\n",
       "  'u': 'cup',\n",
       "  'e': 'equal',\n",
       "  'z': 'rhizomorphs',\n",
       "  'r': 'rooted',\n",
       "  '?': 'missing'},\n",
       " {'f': 'fibrous', 'y': 'scaly', 'k': 'silky', 's': 'smooth'},\n",
       " {'f': 'fibrous', 'y': 'scaly', 'k': 'silky', 's': 'smooth'},\n",
       " {'n': 'brown',\n",
       "  'b': 'buff',\n",
       "  'c': 'cinnamon',\n",
       "  'g': 'gray',\n",
       "  'o': 'orange',\n",
       "  'p': 'pink',\n",
       "  'e': 'red',\n",
       "  'w': 'white',\n",
       "  'y': 'yellow'},\n",
       " {'n': 'brown',\n",
       "  'b': 'buff',\n",
       "  'c': 'cinnamon',\n",
       "  'g': 'gray',\n",
       "  'o': 'orange',\n",
       "  'p': 'pink',\n",
       "  'e': 'red',\n",
       "  'w': 'white',\n",
       "  'y': 'yellow'},\n",
       " {'p': 'partial', 'u': 'universal'},\n",
       " {'n': 'brown', 'o': 'orange', 'w': 'white', 'y': 'yellow'},\n",
       " {'n': 'none', 'o': 'one', 't': 'two'},\n",
       " {'c': 'cobwebby',\n",
       "  'e': 'evanescent',\n",
       "  'f': 'flaring',\n",
       "  'l': 'large',\n",
       "  'n': 'none',\n",
       "  'p': 'pendant',\n",
       "  's': 'sheathing',\n",
       "  'z': 'zone'},\n",
       " {'k': 'black',\n",
       "  'n': 'brown',\n",
       "  'b': 'buff',\n",
       "  'h': 'chocolate',\n",
       "  'r': 'green',\n",
       "  'o': 'orange',\n",
       "  'u': 'purple',\n",
       "  'w': 'white',\n",
       "  'y': 'yellow'},\n",
       " {'a': 'abundant',\n",
       "  'c': 'clustered',\n",
       "  'n': 'numerous',\n",
       "  's': 'scattered',\n",
       "  'v': 'several',\n",
       "  'y': 'solitary'},\n",
       " {'g': 'grasses',\n",
       "  'l': 'leaves',\n",
       "  'm': 'meadows',\n",
       "  'p': 'paths',\n",
       "  'u': 'urban',\n",
       "  'w': 'waste',\n",
       "  'd': 'woods'}]"
      ]
     },
     "execution_count": 8,
     "metadata": {},
     "output_type": "execute_result"
    }
   ],
   "source": [
    "attribute_file_name = 'agaricus-lepiota.attributes'\n",
    "load_attribute_values(attribute_file_name)"
   ]
  },
  {
   "cell_type": "markdown",
   "metadata": {},
   "source": [
    "## Exercise 4: \n",
    "### Define attribute_value_counts()"
   ]
  },
  {
   "cell_type": "code",
   "execution_count": 9,
   "metadata": {},
   "outputs": [],
   "source": [
    "def attribute_value_counts(instance, attribute, attribute_names):\n",
    "    '''Returns a Counter containing the counts of occurrences\n",
    "     of each value of attribute in the list of instances.\n",
    "    attribute_names is a list of names of attributes.'''\n",
    "    attribute_position = attribute_names.index(attribute)\n",
    "    total_counts=Counter([instance[attribute_position] for instance in instances])\n",
    "    return total_counts"
   ]
  },
  {
   "cell_type": "code",
   "execution_count": 10,
   "metadata": {},
   "outputs": [
    {
     "name": "stdout",
     "output_type": "stream",
     "text": [
      "Counts for each value of cap-shape :\n",
      "x : 3656\n",
      "b : 452\n",
      "s : 32\n",
      "f : 3152\n",
      "k : 828\n",
      "c : 4\n"
     ]
    }
   ],
   "source": [
    "my_attribute_value_counts=attribute_value_counts(instances, 'cap-shape', attribute_names)\n",
    "my_attribute_value_counts\n",
    "print('Counts for each value of', 'cap-shape', ':')\n",
    "for value in my_attribute_value_counts:\n",
    "    print(value, ':', my_attribute_value_counts[value])"
   ]
  },
  {
   "cell_type": "markdown",
   "metadata": {},
   "source": [
    "## Exercise 5: \n",
    "### Define print_all_attribute_value_counts()"
   ]
  },
  {
   "cell_type": "code",
   "execution_count": 11,
   "metadata": {},
   "outputs": [],
   "source": [
    "def print_all_attribute_value_counts(instances, attribute_names):\n",
    "    '''Returns a list of Counters containing the counts of occurrences \n",
    "    of each value of each attribute in the list of instances.\n",
    "    attribute_names is a list of names of attributes.'''\n",
    "    num_instances = len(instances)\n",
    "    for attribute in attribute_names:\n",
    "        value_counts = attribute_value_counts(instances, attribute, attribute_names)\n",
    "        print('{}:'.format(attribute), end=' ')\n",
    "        for value, count in sorted(value_counts.items(), key=operator.itemgetter(1), reverse=True):\n",
    "            print('{} = {} ({:5.3f}),'.format(value, count, count / num_instances), end='\\n')\n",
    "    print()\n"
   ]
  },
  {
   "cell_type": "code",
   "execution_count": 12,
   "metadata": {},
   "outputs": [
    {
     "name": "stdout",
     "output_type": "stream",
     "text": [
      "\n",
      "Counts for all attributes and values:\n",
      "\n",
      "class: e = 4208 (0.518),\n",
      "p = 3916 (0.482),\n",
      "cap-shape: x = 3656 (0.450),\n",
      "f = 3152 (0.388),\n",
      "k = 828 (0.102),\n",
      "b = 452 (0.056),\n",
      "s = 32 (0.004),\n",
      "c = 4 (0.000),\n",
      "cap-surface: y = 3244 (0.399),\n",
      "s = 2556 (0.315),\n",
      "f = 2320 (0.286),\n",
      "g = 4 (0.000),\n",
      "cap-color: n = 2284 (0.281),\n",
      "g = 1840 (0.226),\n",
      "e = 1500 (0.185),\n",
      "y = 1072 (0.132),\n",
      "w = 1040 (0.128),\n",
      "b = 168 (0.021),\n",
      "p = 144 (0.018),\n",
      "c = 44 (0.005),\n",
      "u = 16 (0.002),\n",
      "r = 16 (0.002),\n",
      "bruises?: f = 4748 (0.584),\n",
      "t = 3376 (0.416),\n",
      "odor: n = 3528 (0.434),\n",
      "f = 2160 (0.266),\n",
      "y = 576 (0.071),\n",
      "s = 576 (0.071),\n",
      "a = 400 (0.049),\n",
      "l = 400 (0.049),\n",
      "p = 256 (0.032),\n",
      "c = 192 (0.024),\n",
      "m = 36 (0.004),\n",
      "gill-attachment: f = 7914 (0.974),\n",
      "a = 210 (0.026),\n",
      "gill-spacing: c = 6812 (0.839),\n",
      "w = 1312 (0.161),\n",
      "gill-size: b = 5612 (0.691),\n",
      "n = 2512 (0.309),\n",
      "gill-color: b = 1728 (0.213),\n",
      "p = 1492 (0.184),\n",
      "w = 1202 (0.148),\n",
      "n = 1048 (0.129),\n",
      "g = 752 (0.093),\n",
      "h = 732 (0.090),\n",
      "u = 492 (0.061),\n",
      "k = 408 (0.050),\n",
      "e = 96 (0.012),\n",
      "y = 86 (0.011),\n",
      "o = 64 (0.008),\n",
      "r = 24 (0.003),\n",
      "stalk-shape: t = 4608 (0.567),\n",
      "e = 3516 (0.433),\n",
      "stalk-root: b = 3776 (0.465),\n",
      "? = 2480 (0.305),\n",
      "e = 1120 (0.138),\n",
      "c = 556 (0.068),\n",
      "r = 192 (0.024),\n",
      "stalk-surface-above-ring: s = 5176 (0.637),\n",
      "k = 2372 (0.292),\n",
      "f = 552 (0.068),\n",
      "y = 24 (0.003),\n",
      "stalk-surface-below-ring: s = 4936 (0.608),\n",
      "k = 2304 (0.284),\n",
      "f = 600 (0.074),\n",
      "y = 284 (0.035),\n",
      "stalk-color-above-ring: w = 4464 (0.549),\n",
      "p = 1872 (0.230),\n",
      "g = 576 (0.071),\n",
      "n = 448 (0.055),\n",
      "b = 432 (0.053),\n",
      "o = 192 (0.024),\n",
      "e = 96 (0.012),\n",
      "c = 36 (0.004),\n",
      "y = 8 (0.001),\n",
      "stalk-color-below-ring: w = 4384 (0.540),\n",
      "p = 1872 (0.230),\n",
      "g = 576 (0.071),\n",
      "n = 512 (0.063),\n",
      "b = 432 (0.053),\n",
      "o = 192 (0.024),\n",
      "e = 96 (0.012),\n",
      "c = 36 (0.004),\n",
      "y = 24 (0.003),\n",
      "veil-type: p = 8124 (1.000),\n",
      "veil-color: w = 7924 (0.975),\n",
      "n = 96 (0.012),\n",
      "o = 96 (0.012),\n",
      "y = 8 (0.001),\n",
      "ring-number: o = 7488 (0.922),\n",
      "t = 600 (0.074),\n",
      "n = 36 (0.004),\n",
      "ring-type: p = 3968 (0.488),\n",
      "e = 2776 (0.342),\n",
      "l = 1296 (0.160),\n",
      "f = 48 (0.006),\n",
      "n = 36 (0.004),\n",
      "spore-print-color: w = 2388 (0.294),\n",
      "n = 1968 (0.242),\n",
      "k = 1872 (0.230),\n",
      "h = 1632 (0.201),\n",
      "r = 72 (0.009),\n",
      "u = 48 (0.006),\n",
      "o = 48 (0.006),\n",
      "y = 48 (0.006),\n",
      "b = 48 (0.006),\n",
      "population: v = 4040 (0.497),\n",
      "y = 1712 (0.211),\n",
      "s = 1248 (0.154),\n",
      "n = 400 (0.049),\n",
      "a = 384 (0.047),\n",
      "c = 340 (0.042),\n",
      "habitat: d = 3148 (0.387),\n",
      "g = 2148 (0.264),\n",
      "p = 1144 (0.141),\n",
      "l = 832 (0.102),\n",
      "u = 368 (0.045),\n",
      "m = 292 (0.036),\n",
      "w = 192 (0.024),\n",
      "\n"
     ]
    }
   ],
   "source": [
    "print('\\nCounts for all attributes and values:\\n')\n",
    "print_all_attribute_value_counts(instances, attribute_names)"
   ]
  },
  {
   "cell_type": "markdown",
   "metadata": {},
   "source": [
    "## Exercise 6:\n",
    "### Define entropy()"
   ]
  },
  {
   "cell_type": "code",
   "execution_count": 13,
   "metadata": {},
   "outputs": [],
   "source": [
    "def entropy(instances, class_index=0, attribute_name=None, value_name=None):\n",
    "    '''Calculate the entropy of attribute in position attribute_index for the list of instances.'''\n",
    "    num_instances = len(instances)\n",
    "    if num_instances <= 1:\n",
    "        return 0\n",
    "    value_counts = defaultdict(int)\n",
    "    for instance in instances:\n",
    "        value_counts[instance[class_index]] += 1\n",
    "    num_values = len(value_counts)\n",
    "    if num_values <= 1:\n",
    "        return 0\n",
    "    attribute_entropy = 0.0\n",
    "    if attribute_name:\n",
    "        print('entropy({}{}) = '.format(attribute_name, \n",
    "        \t'={}'.format(value_name) if value_name else ''))\n",
    "    for value in value_counts:\n",
    "        value_probability = value_counts[value] / num_instances\n",
    "        child_entropy = value_probability * math.log(value_probability, 2)\n",
    "        attribute_entropy -= child_entropy\n",
    "        if attribute_name:\n",
    "            print('  - p({0}) x log(p({0}), {1})  =  - {2:5.3f} x log({2:5.3f})  =  {3:5.3f}'.format(\n",
    "                value, num_values, value_probability, child_entropy))\n",
    "    if attribute_name:\n",
    "        print('  = {:5.3f}'.format(attribute_entropy))\n",
    "    return attribute_entropy"
   ]
  },
  {
   "cell_type": "code",
   "execution_count": 14,
   "metadata": {
    "scrolled": true
   },
   "outputs": [
    {
     "name": "stdout",
     "output_type": "stream",
     "text": [
      "0.9990678968724604\n"
     ]
    }
   ],
   "source": [
    "print(entropy(instances))"
   ]
  },
  {
   "cell_type": "markdown",
   "metadata": {},
   "source": [
    "## Exercise 7:\n",
    "### Define information_gain()"
   ]
  },
  {
   "cell_type": "code",
   "execution_count": 15,
   "metadata": {},
   "outputs": [],
   "source": [
    "def information_gain(instances, parent_index, class_index=0, attribute_name=False):\n",
    "    '''Return the information gain of splitting the instances based on the attribute parent_index'''\n",
    "    parent_entropy = entropy(instances, class_index, attribute_name)\n",
    "    child_instances = defaultdict(list)\n",
    "    for instance in instances:\n",
    "        child_instances[instance[parent_index]].append(instance)\n",
    "    children_entropy = 0.0\n",
    "    num_instances = len(instances)\n",
    "    for child_value in child_instances:\n",
    "        child_probability = len(child_instances[child_value]) / num_instances\n",
    "        children_entropy += child_probability * entropy(\n",
    "        \tchild_instances[child_value], class_index, attribute_name, child_value)\n",
    "    return parent_entropy - children_entropy\n"
   ]
  },
  {
   "cell_type": "code",
   "execution_count": 16,
   "metadata": {},
   "outputs": [
    {
     "name": "stdout",
     "output_type": "stream",
     "text": [
      "Information gain for different attributes:\n",
      "\n",
      "0.906   5 odor\n",
      "0.481  20 spore-print-color\n",
      "0.417   9 gill-color\n",
      "0.318  19 ring-type\n",
      "0.285  12 stalk-surface-above-ring\n",
      "0.272  13 stalk-surface-below-ring\n",
      "0.254  14 stalk-color-above-ring\n",
      "0.241  15 stalk-color-below-ring\n",
      "0.230   8 gill-size\n",
      "0.202  21 population\n",
      "0.192   4 bruises?\n",
      "0.157  22 habitat\n",
      "0.135  11 stalk-root\n",
      "0.101   7 gill-spacing\n",
      "0.049   1 cap-shape\n",
      "0.038  18 ring-number\n",
      "0.036   3 cap-color\n",
      "0.029   2 cap-surface\n",
      "0.024  17 veil-color\n",
      "0.014   6 gill-attachment\n",
      "0.008  10 stalk-shape\n",
      "0.000  16 veil-type\n"
     ]
    }
   ],
   "source": [
    "sorted_information_gain_indexes = sorted([(information_gain(instances, i), i) \n",
    "                                          for i in range(1, len(attribute_names))], \n",
    "                                         reverse=True)\n",
    "\n",
    "print('Information gain for different attributes:', end='\\n\\n')\n",
    "for gain, i in sorted_information_gain_indexes:\n",
    "    print('{:5.3f}  {:2} {}'.format(gain, i, attribute_names[i]))"
   ]
  },
  {
   "cell_type": "markdown",
   "metadata": {},
   "source": [
    "## Exercise 8:\n",
    "### Define choose_best_attribute_index()"
   ]
  },
  {
   "cell_type": "code",
   "execution_count": 17,
   "metadata": {},
   "outputs": [],
   "source": [
    "def choose_best_attribute_index(instances,candidate_attribute_indexes):\n",
    "    '''Return the index of the attribute that will provide the greatest information gain \n",
    "    if instances were partitioned based on that attribute'''\n",
    "    gains_and_indexes = sorted([(information_gain(instances,i),i) for i in candidate_attribute_indexes],\n",
    "                        reverse = True)\n",
    "    return gains_and_indexes[0][1]"
   ]
  },
  {
   "cell_type": "code",
   "execution_count": 18,
   "metadata": {},
   "outputs": [
    {
     "data": {
      "text/plain": [
       "5"
      ]
     },
     "execution_count": 18,
     "metadata": {},
     "output_type": "execute_result"
    }
   ],
   "source": [
    "choose_best_attribute_index(instances, range(1,len(attribute_names)))"
   ]
  },
  {
   "cell_type": "markdown",
   "metadata": {},
   "source": [
    "## Exercise 9:\n",
    "### Define majority_value()"
   ]
  },
  {
   "cell_type": "code",
   "execution_count": 19,
   "metadata": {},
   "outputs": [],
   "source": [
    "def majority_value(instances, class_index=0):\n",
    "    '''Return the most frequent value of class_index in instances'''\n",
    "    class_counts = Counter([instance[class_index] for instance in instances])\n",
    "    return class_counts.most_common(1)[0][0]"
   ]
  },
  {
   "cell_type": "code",
   "execution_count": 20,
   "metadata": {},
   "outputs": [
    {
     "name": "stdout",
     "output_type": "stream",
     "text": [
      "Majority value of index 0: e\n",
      "Majority value of index 1: x\n",
      "Majority value of index 2: y\n"
     ]
    }
   ],
   "source": [
    "print('Majority value of index {}: {}'.format(\n",
    "    0, majority_value(instances)))\n",
    "print('Majority value of index {}: {}'.format(\n",
    "    1, majority_value(instances, 1))) # using argument order\n",
    "print('Majority value of index {}: {}'.format(\n",
    "    2, majority_value(instances, class_index=2)))  # using keyword argument"
   ]
  },
  {
   "cell_type": "code",
   "execution_count": null,
   "metadata": {},
   "outputs": [],
   "source": []
  }
 ],
 "metadata": {
  "kernelspec": {
   "display_name": "Python 3",
   "language": "python",
   "name": "python3"
  },
  "language_info": {
   "codemirror_mode": {
    "name": "ipython",
    "version": 3
   },
   "file_extension": ".py",
   "mimetype": "text/x-python",
   "name": "python",
   "nbconvert_exporter": "python",
   "pygments_lexer": "ipython3",
   "version": "3.7.6"
  }
 },
 "nbformat": 4,
 "nbformat_minor": 4
}
